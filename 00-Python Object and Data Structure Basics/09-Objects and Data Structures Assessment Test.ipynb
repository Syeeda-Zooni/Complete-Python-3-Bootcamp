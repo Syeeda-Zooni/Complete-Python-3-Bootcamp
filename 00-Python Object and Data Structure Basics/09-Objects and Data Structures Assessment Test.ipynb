{
  "cells": [
    {
      "cell_type": "markdown",
      "metadata": {
        "id": "UceuJ1stBjQL"
      },
      "source": [
        "___\n",
        "\n",
        "<a href='https://www.udemy.com/user/joseportilla/'><img src='https://github.com/Syeeda-Zooni/Complete-Python-3-Bootcamp/blob/master/Pierian_Data_Logo.png?raw=1'/></a>\n",
        "___\n",
        "<center><em>Content Copyright by Pierian Data</em></center>\n",
        "# Objects and Data Structures Assessment Test"
      ]
    },
    {
      "cell_type": "markdown",
      "metadata": {
        "collapsed": true,
        "id": "oP4Vj17oBjQN"
      },
      "source": [
        "## Test your knowledge.\n",
        "\n",
        "** Answer the following questions **"
      ]
    },
    {
      "cell_type": "markdown",
      "metadata": {
        "collapsed": true,
        "id": "3xhCeTjlBjQN"
      },
      "source": [
        "Write (or just say out loud to yourself) a brief description of all the following Object Types and Data Structures we've learned about. You can edit the cell below by double clicking on it. Really this is just to test if you know the difference between these, so feel free to just think about it, since your answers are self-graded."
      ]
    },
    {
      "cell_type": "markdown",
      "metadata": {
        "id": "rTxziE58BjQO"
      },
      "source": [
        "Double Click HERE to edit this markdown cell and write answers.\n",
        "\n",
        "Numbers: The Integer values\n",
        "\n",
        "Strings: the ordered sequence of characters\n",
        "\n",
        "Lists: the ordered sequence of objects (mutable)\n",
        "\n",
        "Tuples: the ordered sequence of objects (immutable)\n",
        "\n",
        "Dictionaries: the kye value pairs\n"
      ]
    },
    {
      "cell_type": "markdown",
      "metadata": {
        "id": "2U33qQedBjQO"
      },
      "source": [
        "## Numbers\n",
        "\n",
        "Write an equation that uses multiplication, division, an exponent, addition, and subtraction that is equal to 100.25.\n",
        "\n",
        "Hint: This is just to test your memory of the basic arithmetic commands, work backwards from 100.25"
      ]
    },
    {
      "cell_type": "code",
      "execution_count": null,
      "metadata": {
        "collapsed": true,
        "id": "FSP7xHE2BjQO"
      },
      "outputs": [],
      "source": [
        "(10*10)+0.25"
      ]
    },
    {
      "cell_type": "markdown",
      "metadata": {
        "id": "k1gZGhLIBjQP"
      },
      "source": [
        "Answer these 3 questions without typing code. Then type code to check your answer.\n",
        "\n",
        "    What is the value of the expression 4 * (6 + 5) 44\n",
        "    \n",
        "    What is the value of the expression 4 * 6 + 5 29\n",
        "    \n",
        "    What is the value of the expression 4 + 6 * 5 34"
      ]
    },
    {
      "cell_type": "code",
      "execution_count": null,
      "metadata": {
        "collapsed": true,
        "id": "r2lfuyJSBjQP"
      },
      "outputs": [],
      "source": []
    },
    {
      "cell_type": "markdown",
      "metadata": {
        "id": "Vt2W-K0XBjQP"
      },
      "source": [
        "What is the *type* of the result of the expression 3 + 1.5 + 4?<br><br>\n",
        "Floating point"
      ]
    },
    {
      "cell_type": "markdown",
      "metadata": {
        "id": "Gml3Ku5EBjQP"
      },
      "source": [
        "What would you use to find a number’s square root, as well as its square?"
      ]
    },
    {
      "cell_type": "code",
      "execution_count": null,
      "metadata": {
        "collapsed": true,
        "id": "-QquoycNBjQQ"
      },
      "outputs": [],
      "source": [
        "# Square root: 100**0.5\n"
      ]
    },
    {
      "cell_type": "code",
      "execution_count": null,
      "metadata": {
        "collapsed": true,
        "id": "p8ZjP3whBjQQ"
      },
      "outputs": [],
      "source": [
        "# Square: 10**2\n"
      ]
    },
    {
      "cell_type": "markdown",
      "metadata": {
        "id": "gZUwre--BjQQ"
      },
      "source": [
        "## Strings"
      ]
    },
    {
      "cell_type": "markdown",
      "metadata": {
        "id": "TyiQFR6QBjQQ"
      },
      "source": [
        "Given the string 'hello' give an index command that returns 'e'. Enter your code in the cell below:"
      ]
    },
    {
      "cell_type": "code",
      "execution_count": null,
      "metadata": {
        "collapsed": true,
        "id": "qrUFxN7hBjQQ"
      },
      "outputs": [],
      "source": [
        "s = 'hello'\n",
        "# Print out 'e' using indexing\n",
        "s[1]\n",
        "\n"
      ]
    },
    {
      "cell_type": "markdown",
      "metadata": {
        "id": "X__V953hBjQR"
      },
      "source": [
        "Reverse the string 'hello' using slicing:"
      ]
    },
    {
      "cell_type": "code",
      "execution_count": null,
      "metadata": {
        "collapsed": true,
        "id": "fLJd_6BNBjQR"
      },
      "outputs": [],
      "source": [
        "s ='hello'\n",
        "# Reverse the string using slicing\n",
        "s[::-1]\n"
      ]
    },
    {
      "cell_type": "markdown",
      "metadata": {
        "id": "hhrgb9S-BjQR"
      },
      "source": [
        "Given the string hello, give two methods of producing the letter 'o' using indexing."
      ]
    },
    {
      "cell_type": "code",
      "execution_count": null,
      "metadata": {
        "collapsed": true,
        "id": "ZRrkQf4WBjQR"
      },
      "outputs": [],
      "source": [
        "s ='hello'\n",
        "# Print out the 'o'\n",
        "\n",
        "# Method 1: s[-1]\n",
        "\n"
      ]
    },
    {
      "cell_type": "code",
      "execution_count": null,
      "metadata": {
        "collapsed": true,
        "id": "XyPfQQCDBjQR"
      },
      "outputs": [],
      "source": [
        "# Method 2: s[4]\n",
        "\n"
      ]
    },
    {
      "cell_type": "markdown",
      "metadata": {
        "id": "sxSDRYVwBjQR"
      },
      "source": [
        "## Lists"
      ]
    },
    {
      "cell_type": "markdown",
      "metadata": {
        "id": "MU-6Thr5BjQR"
      },
      "source": [
        "Build this list [0,0,0] two separate ways."
      ]
    },
    {
      "cell_type": "code",
      "execution_count": null,
      "metadata": {
        "collapsed": true,
        "id": "xR3LN_iKBjQS"
      },
      "outputs": [],
      "source": [
        "# Method 1:\n",
        "list=[0,0,0]"
      ]
    },
    {
      "cell_type": "code",
      "execution_count": null,
      "metadata": {
        "collapsed": true,
        "id": "WqP9mpDWBjQS"
      },
      "outputs": [],
      "source": [
        "# Method 2:\n",
        "list=[0]**3"
      ]
    },
    {
      "cell_type": "markdown",
      "metadata": {
        "id": "qnvxHyCIBjQS"
      },
      "source": [
        "Reassign 'hello' in this nested list to say 'goodbye' instead:"
      ]
    },
    {
      "cell_type": "code",
      "execution_count": null,
      "metadata": {
        "collapsed": true,
        "id": "0OjPA-TfBjQS"
      },
      "outputs": [],
      "source": [
        "list3 = [1,2,[3,4,'hello']]\n",
        "\n"
      ]
    },
    {
      "cell_type": "markdown",
      "metadata": {
        "id": "7Zb7an7VBjQS"
      },
      "source": [
        "Sort the list below:"
      ]
    },
    {
      "cell_type": "code",
      "execution_count": null,
      "metadata": {
        "collapsed": true,
        "id": "be5UyybEBjQS"
      },
      "outputs": [],
      "source": [
        "list4 = [5,3,4,6,1]\n",
        "\n"
      ]
    },
    {
      "cell_type": "markdown",
      "metadata": {
        "id": "_uEH1LEjBjQS"
      },
      "source": [
        "## Dictionaries"
      ]
    },
    {
      "cell_type": "markdown",
      "metadata": {
        "id": "UsF9jxzSBjQS"
      },
      "source": [
        "Using keys and indexing, grab the 'hello' from the following dictionaries:"
      ]
    },
    {
      "cell_type": "code",
      "execution_count": null,
      "metadata": {
        "collapsed": true,
        "id": "1DTIyIQMBjQS"
      },
      "outputs": [],
      "source": [
        "d = {'simple_key':'hello'}\n",
        "# Grab 'hello'\n"
      ]
    },
    {
      "cell_type": "code",
      "execution_count": null,
      "metadata": {
        "collapsed": true,
        "id": "RJEGVpGHBjQS"
      },
      "outputs": [],
      "source": [
        "d = {'k1':{'k2':'hello'}}\n",
        "# Grab 'hello'\n"
      ]
    },
    {
      "cell_type": "code",
      "execution_count": null,
      "metadata": {
        "collapsed": true,
        "id": "g1bXdTahBjQS"
      },
      "outputs": [],
      "source": [
        "# Getting a little tricker\n",
        "d = {'k1':[{'nest_key':['this is deep',['hello']]}]}\n",
        "\n",
        "#Grab hello\n"
      ]
    },
    {
      "cell_type": "code",
      "execution_count": null,
      "metadata": {
        "collapsed": true,
        "id": "D41-GMPvBjQT"
      },
      "outputs": [],
      "source": [
        "# This will be hard and annoying!\n",
        "d = {'k1':[1,2,{'k2':['this is tricky',{'tough':[1,2,['hello']]}]}]}"
      ]
    },
    {
      "cell_type": "markdown",
      "metadata": {
        "id": "bNXWMbu7BjQT"
      },
      "source": [
        "Can you sort a dictionary? Why or why not?<br><br>"
      ]
    },
    {
      "cell_type": "markdown",
      "metadata": {
        "id": "BG5CYV2iBjQT"
      },
      "source": [
        "## Tuples"
      ]
    },
    {
      "cell_type": "markdown",
      "source": [],
      "metadata": {
        "id": "-IP7qJ9AqvB3"
      }
    },
    {
      "cell_type": "markdown",
      "metadata": {
        "id": "np8ySqSDBjQT"
      },
      "source": [
        "\\What is the major difference between tuples and lists?<br><br>\n",
        "List are mutable as compared to tuples which are immutable"
      ]
    },
    {
      "cell_type": "code",
      "source": [],
      "metadata": {
        "id": "zjmYN5vpqukY"
      },
      "execution_count": null,
      "outputs": []
    },
    {
      "cell_type": "markdown",
      "metadata": {
        "id": "eId4b_UiBjQT"
      },
      "source": [
        "How do you create a tuple?<br><br>\n",
        "tuple(the elements)"
      ]
    },
    {
      "cell_type": "markdown",
      "metadata": {
        "id": "6Bv_aPDDBjQT"
      },
      "source": [
        "## Sets"
      ]
    },
    {
      "cell_type": "markdown",
      "metadata": {
        "id": "EHH-3D7zBjQd"
      },
      "source": [
        "What is unique about a set?<br><br>\n",
        "set is the ordered collection of unique elements"
      ]
    },
    {
      "cell_type": "markdown",
      "metadata": {
        "id": "4avre7kcBjQe"
      },
      "source": [
        "Use a set to find the unique values of the list below:"
      ]
    },
    {
      "cell_type": "code",
      "execution_count": null,
      "metadata": {
        "collapsed": true,
        "id": "tIQP74T7BjQe"
      },
      "outputs": [],
      "source": [
        "list5 = [1,2,2,33,4,4,11,22,3,3,2]\n",
        "set(list5)\n",
        "\n"
      ]
    },
    {
      "cell_type": "markdown",
      "metadata": {
        "id": "Z6OiqtGpBjQe"
      },
      "source": [
        "## Booleans"
      ]
    },
    {
      "cell_type": "markdown",
      "metadata": {
        "id": "bOXOtujBBjQe"
      },
      "source": [
        "For the following quiz questions, we will get a preview of comparison operators. In the table below, a=3 and b=4.\n",
        "\n",
        "<table class=\"table table-bordered\">\n",
        "<tr>\n",
        "<th style=\"width:10%\">Operator</th><th style=\"width:45%\">Description</th><th>Example</th>\n",
        "</tr>\n",
        "<tr>\n",
        "<td>==</td>\n",
        "<td>If the values of two operands are equal, then the condition becomes true.</td>\n",
        "<td> (a == b) is not true.</td>\n",
        "</tr>\n",
        "<tr>\n",
        "<td>!=</td>\n",
        "<td>If values of two operands are not equal, then condition becomes true.</td>\n",
        "<td> (a != b) is true.</td>\n",
        "</tr>\n",
        "<tr>\n",
        "<td>&gt;</td>\n",
        "<td>If the value of left operand is greater than the value of right operand, then condition becomes true.</td>\n",
        "<td> (a &gt; b) is not true.</td>\n",
        "</tr>\n",
        "<tr>\n",
        "<td>&lt;</td>\n",
        "<td>If the value of left operand is less than the value of right operand, then condition becomes true.</td>\n",
        "<td> (a &lt; b) is true.</td>\n",
        "</tr>\n",
        "<tr>\n",
        "<td>&gt;=</td>\n",
        "<td>If the value of left operand is greater than or equal to the value of right operand, then condition becomes true.</td>\n",
        "<td> (a &gt;= b) is not true. </td>\n",
        "</tr>\n",
        "<tr>\n",
        "<td>&lt;=</td>\n",
        "<td>If the value of left operand is less than or equal to the value of right operand, then condition becomes true.</td>\n",
        "<td> (a &lt;= b) is true. </td>\n",
        "</tr>\n",
        "</table>"
      ]
    },
    {
      "cell_type": "markdown",
      "metadata": {
        "id": "OaA7Llk8BjQe"
      },
      "source": [
        "What will be the resulting Boolean of the following pieces of code (answer fist then check by typing it in!)"
      ]
    },
    {
      "cell_type": "code",
      "execution_count": null,
      "metadata": {
        "collapsed": true,
        "id": "Oy07O0SbBjQe"
      },
      "outputs": [],
      "source": [
        "# Answer before running cell\n",
        "2 > 3\n",
        "False"
      ]
    },
    {
      "cell_type": "code",
      "execution_count": null,
      "metadata": {
        "collapsed": true,
        "id": "1P79P-JEBjQe"
      },
      "outputs": [],
      "source": [
        "# Answer before running cell\n",
        "3 <= 2\n",
        "False"
      ]
    },
    {
      "cell_type": "code",
      "execution_count": null,
      "metadata": {
        "collapsed": true,
        "id": "O7LcCQcxBjQe"
      },
      "outputs": [],
      "source": [
        "# Answer before running cell\n",
        "3 == 2.0\n",
        "False"
      ]
    },
    {
      "cell_type": "code",
      "execution_count": null,
      "metadata": {
        "collapsed": true,
        "id": "McX22hRCBjQe"
      },
      "outputs": [],
      "source": [
        "# Answer before running cell\n",
        "3.0 == 3\n",
        "true"
      ]
    },
    {
      "cell_type": "code",
      "execution_count": null,
      "metadata": {
        "collapsed": true,
        "id": "yXMfkN-eBjQe"
      },
      "outputs": [],
      "source": [
        "# Answer before running cell\n",
        "4**0.5 != 2\n",
        "false"
      ]
    },
    {
      "cell_type": "markdown",
      "metadata": {
        "id": "XNd56v-VBjQe"
      },
      "source": [
        "Final Question: What is the boolean output of the cell block below?"
      ]
    },
    {
      "cell_type": "code",
      "execution_count": null,
      "metadata": {
        "collapsed": true,
        "id": "l46M0MlwBjQe"
      },
      "outputs": [],
      "source": [
        "# two nested lists\n",
        "l_one = [1,2,[3,4]]\n",
        "l_two = [1,2,{'k1':4}]\n",
        "\n",
        "# True or False?\n",
        "l_one[2][0] >= l_two[2]['k1']\n",
        "true"
      ]
    },
    {
      "cell_type": "markdown",
      "metadata": {
        "id": "Nt4cJPfLBjQe"
      },
      "source": [
        "## Great Job on your first assessment!"
      ]
    }
  ],
  "metadata": {
    "anaconda-cloud": {},
    "kernelspec": {
      "display_name": "Python 3",
      "language": "python",
      "name": "python3"
    },
    "language_info": {
      "codemirror_mode": {
        "name": "ipython",
        "version": 3
      },
      "file_extension": ".py",
      "mimetype": "text/x-python",
      "name": "python",
      "nbconvert_exporter": "python",
      "pygments_lexer": "ipython3",
      "version": "3.6.6"
    },
    "colab": {
      "provenance": []
    }
  },
  "nbformat": 4,
  "nbformat_minor": 0
}