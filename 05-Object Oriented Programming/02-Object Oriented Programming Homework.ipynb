{
  "cells": [
    {
      "cell_type": "markdown",
      "metadata": {
        "id": "eB9C1sjX_S2u"
      },
      "source": [
        "___\n",
        "\n",
        "<a href='https://www.udemy.com/user/joseportilla/'><img src='https://github.com/Syeeda-Zooni/Complete-Python-3-Bootcamp/blob/master/Pierian_Data_Logo.png?raw=1'/></a>\n",
        "___\n",
        "<center><em>Content Copyright by Pierian Data</em></center>"
      ]
    },
    {
      "cell_type": "markdown",
      "metadata": {
        "id": "AIvnOkmJ_S2w"
      },
      "source": [
        "# Object Oriented Programming\n",
        "## Homework Assignment\n",
        "\n",
        "#### Problem 1\n",
        "Fill in the Line class methods to accept coordinates as a pair of tuples and return the slope and distance of the line."
      ]
    },
    {
      "cell_type": "code",
      "execution_count": null,
      "metadata": {
        "collapsed": true,
        "id": "qE751_EP_S2x"
      },
      "outputs": [],
      "source": [
        "class Line():\n",
        "\n",
        "    def __init__(self,coor1,coor2):\n",
        "        self.coor1=coor1\n",
        "        self.coor2=coor2\n",
        "\n",
        "    def distance(self):\n",
        "        return ((self.coor2[0]-self.coor1[0])**2+(self.coor2[1]-self.coor1[1])**2)**0.5\n",
        "\n",
        "    def slope(self):\n",
        "        return ((self.coor2[1]-self.coor1[1])/(self.coor2[0]-self.coor1[0]))"
      ]
    },
    {
      "cell_type": "code",
      "execution_count": null,
      "metadata": {
        "collapsed": true,
        "id": "MhI6Ymkg_S2y"
      },
      "outputs": [],
      "source": [
        "# EXAMPLE OUTPUT\n",
        "\n",
        "coordinate1 = (3,2)\n",
        "coordinate2 = (8,10)\n",
        "\n",
        "li = Line(coordinate1,coordinate2)"
      ]
    },
    {
      "cell_type": "code",
      "execution_count": null,
      "metadata": {
        "id": "kji2Ln7M_S2y",
        "outputId": "0d00085c-3f97-4a06-dd21-1d9e1846baf0"
      },
      "outputs": [
        {
          "data": {
            "text/plain": [
              "9.433981132056603"
            ]
          },
          "execution_count": 3,
          "metadata": {},
          "output_type": "execute_result"
        }
      ],
      "source": [
        "li.distance()"
      ]
    },
    {
      "cell_type": "code",
      "execution_count": null,
      "metadata": {
        "id": "ty-5z8rB_S2z",
        "outputId": "977b2b52-f76e-4d3b-ad03-e26832751972"
      },
      "outputs": [
        {
          "data": {
            "text/plain": [
              "1.6"
            ]
          },
          "execution_count": 4,
          "metadata": {},
          "output_type": "execute_result"
        }
      ],
      "source": [
        "li.slope()"
      ]
    },
    {
      "cell_type": "markdown",
      "metadata": {
        "id": "Yx7uiPk2_S2z"
      },
      "source": [
        "________\n",
        "#### Problem 2"
      ]
    },
    {
      "cell_type": "markdown",
      "metadata": {
        "id": "aMwa6Mrg_S2z"
      },
      "source": [
        "Fill in the class"
      ]
    },
    {
      "cell_type": "code",
      "execution_count": null,
      "metadata": {
        "collapsed": true,
        "id": "-PyeRb1q_S2z"
      },
      "outputs": [],
      "source": [
        "class Cylinder():\n",
        "    pi=3.14\n",
        "    def __init__(self,height=1,radius=1):\n",
        "        self.height=height\n",
        "        self.radiius=radius\n",
        "\n",
        "    def volume(self):\n",
        "        return self.pi*self.radius*self.radius*self.height\n",
        "\n",
        "    def surface_area(self):\n",
        "       return 2*self.pi*self.radius(self.radius+self.height)"
      ]
    },
    {
      "cell_type": "code",
      "execution_count": null,
      "metadata": {
        "collapsed": true,
        "id": "JK93nwWm_S20"
      },
      "outputs": [],
      "source": [
        "# EXAMPLE OUTPUT\n",
        "c = Cylinder(2,3)"
      ]
    },
    {
      "cell_type": "code",
      "execution_count": null,
      "metadata": {
        "id": "N0hSgQxL_S20",
        "outputId": "3dfaef99-982e-46b2-80f9-ddc395c2bd33"
      },
      "outputs": [
        {
          "data": {
            "text/plain": [
              "56.52"
            ]
          },
          "execution_count": 7,
          "metadata": {},
          "output_type": "execute_result"
        }
      ],
      "source": [
        "c.volume()"
      ]
    },
    {
      "cell_type": "code",
      "execution_count": null,
      "metadata": {
        "id": "z5xsxIch_S20",
        "outputId": "51902908-5825-4a49-c252-c8aac7e57ea4"
      },
      "outputs": [
        {
          "data": {
            "text/plain": [
              "94.2"
            ]
          },
          "execution_count": 8,
          "metadata": {},
          "output_type": "execute_result"
        }
      ],
      "source": [
        "c.surface_area()"
      ]
    }
  ],
  "metadata": {
    "kernelspec": {
      "display_name": "Python 3",
      "language": "python",
      "name": "python3"
    },
    "language_info": {
      "codemirror_mode": {
        "name": "ipython",
        "version": 3
      },
      "file_extension": ".py",
      "mimetype": "text/x-python",
      "name": "python",
      "nbconvert_exporter": "python",
      "pygments_lexer": "ipython3",
      "version": "3.6.6"
    },
    "colab": {
      "provenance": []
    }
  },
  "nbformat": 4,
  "nbformat_minor": 0
}